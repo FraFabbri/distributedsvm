{
 "cells": [
  {
   "cell_type": "markdown",
   "metadata": {},
   "source": [
    "# Homework - Cancer Classification over Distributed Networks\n",
    "**Student:** Francesco Fabbri"
   ]
  },
  {
   "cell_type": "markdown",
   "metadata": {},
   "source": [
    "# Introduction\n",
    "In this work, given the cancer dataset, we want to predict if a detected cancer is malignant or benign. This binary classification problem is approached through a distributed version of a well-known classifier, Support Vector Machine (SVM), on a sparse geometric random graph. Distributing the SVM classifier means solving an optimization problem, which is solved computing from scratch a sub-gradient algorithm. We apply the algorithm on the 70% of the data (training set) and evaluate then its performance on the remaining 30%. Afterwards, the obtained results are compared to the classical version of SVM, in order to check whether there are some differecens among the 2 predictions."
   ]
  },
  {
   "cell_type": "code",
   "execution_count": 1,
   "metadata": {},
   "outputs": [],
   "source": [
    "### Libs ###\n",
    "import numpy as np\n",
    "import pandas as pd\n",
    "import networkx as nx\n",
    "import matplotlib.pyplot as plt\n",
    "import seaborn as sb\n",
    "from networkx.generators.geometric import random_geometric_graph\n",
    "from sklearn.metrics import accuracy_score\n",
    "from sklearn.svm import SVC  \n",
    "import random, warnings\n",
    "warnings.filterwarnings('ignore')"
   ]
  },
  {
   "cell_type": "markdown",
   "metadata": {},
   "source": [
    "# Data\n",
    "\n",
    "The dataset is composed by 683 observations and 10 variables (9 covariates and the target variable). We split the data, using 478 obs as train set and 205 as test set (split 70/30)."
   ]
  },
  {
   "cell_type": "code",
   "execution_count": 2,
   "metadata": {
    "scrolled": true
   },
   "outputs": [
    {
     "name": "stdout",
     "output_type": "stream",
     "text": [
      "(683, 10)\n",
      "Train: 478 obs\n",
      "Test: 205 obs\n"
     ]
    },
    {
     "data": {
      "text/html": [
       "<div>\n",
       "<style scoped>\n",
       "    .dataframe tbody tr th:only-of-type {\n",
       "        vertical-align: middle;\n",
       "    }\n",
       "\n",
       "    .dataframe tbody tr th {\n",
       "        vertical-align: top;\n",
       "    }\n",
       "\n",
       "    .dataframe thead th {\n",
       "        text-align: right;\n",
       "    }\n",
       "</style>\n",
       "<table border=\"1\" class=\"dataframe\">\n",
       "  <thead>\n",
       "    <tr style=\"text-align: right;\">\n",
       "      <th></th>\n",
       "      <th>cl_thickness</th>\n",
       "      <th>cell_size</th>\n",
       "      <th>cell_shape</th>\n",
       "      <th>marg_adhesion</th>\n",
       "      <th>epith_c_size</th>\n",
       "      <th>bare_nuclei</th>\n",
       "      <th>bl_cromatin</th>\n",
       "      <th>normal_nucleoli</th>\n",
       "      <th>mitoses</th>\n",
       "      <th>y</th>\n",
       "    </tr>\n",
       "  </thead>\n",
       "  <tbody>\n",
       "    <tr>\n",
       "      <th>0</th>\n",
       "      <td>5</td>\n",
       "      <td>1</td>\n",
       "      <td>1</td>\n",
       "      <td>1</td>\n",
       "      <td>2</td>\n",
       "      <td>1.0</td>\n",
       "      <td>3</td>\n",
       "      <td>1</td>\n",
       "      <td>1</td>\n",
       "      <td>-1</td>\n",
       "    </tr>\n",
       "    <tr>\n",
       "      <th>1</th>\n",
       "      <td>5</td>\n",
       "      <td>4</td>\n",
       "      <td>4</td>\n",
       "      <td>5</td>\n",
       "      <td>7</td>\n",
       "      <td>10.0</td>\n",
       "      <td>3</td>\n",
       "      <td>2</td>\n",
       "      <td>1</td>\n",
       "      <td>-1</td>\n",
       "    </tr>\n",
       "    <tr>\n",
       "      <th>2</th>\n",
       "      <td>3</td>\n",
       "      <td>1</td>\n",
       "      <td>1</td>\n",
       "      <td>1</td>\n",
       "      <td>2</td>\n",
       "      <td>2.0</td>\n",
       "      <td>3</td>\n",
       "      <td>1</td>\n",
       "      <td>1</td>\n",
       "      <td>-1</td>\n",
       "    </tr>\n",
       "    <tr>\n",
       "      <th>3</th>\n",
       "      <td>6</td>\n",
       "      <td>8</td>\n",
       "      <td>8</td>\n",
       "      <td>1</td>\n",
       "      <td>3</td>\n",
       "      <td>4.0</td>\n",
       "      <td>3</td>\n",
       "      <td>7</td>\n",
       "      <td>1</td>\n",
       "      <td>-1</td>\n",
       "    </tr>\n",
       "    <tr>\n",
       "      <th>4</th>\n",
       "      <td>4</td>\n",
       "      <td>1</td>\n",
       "      <td>1</td>\n",
       "      <td>3</td>\n",
       "      <td>2</td>\n",
       "      <td>1.0</td>\n",
       "      <td>3</td>\n",
       "      <td>1</td>\n",
       "      <td>1</td>\n",
       "      <td>-1</td>\n",
       "    </tr>\n",
       "  </tbody>\n",
       "</table>\n",
       "</div>"
      ],
      "text/plain": [
       "   cl_thickness  cell_size  cell_shape  marg_adhesion  epith_c_size  \\\n",
       "0             5          1           1              1             2   \n",
       "1             5          4           4              5             7   \n",
       "2             3          1           1              1             2   \n",
       "3             6          8           8              1             3   \n",
       "4             4          1           1              3             2   \n",
       "\n",
       "   bare_nuclei  bl_cromatin  normal_nucleoli  mitoses  y  \n",
       "0          1.0            3                1        1 -1  \n",
       "1         10.0            3                2        1 -1  \n",
       "2          2.0            3                1        1 -1  \n",
       "3          4.0            3                7        1 -1  \n",
       "4          1.0            3                1        1 -1  "
      ]
     },
     "execution_count": 2,
     "metadata": {},
     "output_type": "execute_result"
    }
   ],
   "source": [
    "# Import Data and split train/test\n",
    "df = pd.read_csv('breast_cancer.csv', index_col=0)\n",
    "df.Class.loc[df.Class == 'benign'] = -1\n",
    "df.Class.loc[df.Class == 'malignant'] = 1\n",
    "df = df[df.columns[1:]]\n",
    "df.columns = [x.lower().replace('.', '_') for x in df.columns]\n",
    "df = df.rename(columns = {'class':'y'})\n",
    "df.dropna(inplace=True)\n",
    "df.index = range(len(df))\n",
    "split_ = int(len(df)*0.7)\n",
    "train = df.iloc[:split_]\n",
    "test = df.loc[split_:]\n",
    "\n",
    "print df.shape\n",
    "print 'Train: ' + str(len(train)) + ' obs'\n",
    "print 'Test: ' + str(len(test)) + ' obs'\n",
    "\n",
    "df.head()"
   ]
  },
  {
   "cell_type": "code",
   "execution_count": 3,
   "metadata": {},
   "outputs": [
    {
     "name": "stdout",
     "output_type": "stream",
     "text": [
      "The graph is connected: True\n",
      "Avg. Degree: 3.25\n"
     ]
    },
    {
     "data": {
      "image/png": "[encoded data removed]",
      "text/plain": [
       "<matplotlib.figure.Figure at 0x1a17912090>"
      ]
     },
     "metadata": {},
     "output_type": "display_data"
    }
   ],
   "source": [
    "# Random Sparse Geometric Graph\n",
    "random.seed(111)\n",
    "N_agents = 8\n",
    "conn = False\n",
    "count_g = 101\n",
    "lst_graphs = []\n",
    "while True:\n",
    "    rad = np.sqrt(2.0*np.log(N_agents)/(N_agents*np.pi))\n",
    "    G = random_geometric_graph(n=N_agents, radius=rad ,dim=2)\n",
    "    if nx.is_connected(G) is True:\n",
    "        lst_graphs.append(G.copy())\n",
    "    if len(lst_graphs) == count_g:\n",
    "        break\n",
    "avg_degree = np.array([np.mean(g.degree()) for g in lst_graphs])\n",
    "idx_med = [idx for idx, x in enumerate(avg_degree) if x <= np.median(lst_graphs)][0]\n",
    "# we took the graph with avg_degree <= median of 100 geometric random graphs\n",
    "G = lst_graphs[idx_med]\n",
    "print 'The graph is connected: %s'%nx.is_connected(G)\n",
    "print 'Avg. Degree: %s'%np.mean(dict(G.degree()).values())\n",
    "\n",
    "nx.draw(G)\n",
    "plt.show()"
   ]
  },
  {
   "cell_type": "markdown",
   "metadata": {},
   "source": [
    "# Problem Formulation\n",
    "**Graph.** In order to build a sparse network we build a random sparse geometric graph with 8 nodes (avg. degree 3.25). Each processor has to deal with a subset of the training data (59 obs for each one). \n",
    "\n",
    "**L2-SVM.** Our binary classication task can be solved starting from the definition of L2 - SVM:\n",
    "\n",
    "$$\\min_{w,b}{\\frac{1}{N} \\sum_i^N \\max \\big (0, 1 - y_i (\\textbf{w}^T \\textbf{x_i} - b) \\big )} + \\lambda ||\\textbf{w}||_2^2 $$\n",
    "\n",
    "We can then write the distributed version of the problem, with M as the number of agents:\n",
    "\n",
    "$$\\min_{w,b}{\\frac{1}{N} \\sum_{j = 1}^M \\sum_{i \\in n_j} \\Big ( \\max \\big (0, 1 - y_i (\\textbf{w}^T \\textbf{x}_i - b) \\big )} + \\lambda ||\\textbf{w}||_2^2 \\Big )$$\n",
    "\n",
    "Focusing on the term involved in the hinge-loss function $y_i (\\textbf{w}^T \\textbf{x} - b)$, we can introduce $\\textbf{z} = (\\textbf{w}, b)$. Using $\\textbf{z}$ we can write the covariates as $a_i = (\\textbf{x}, - 1)$ and then state the previous problem as:\n",
    "\n",
    "$$\\min_{w,b}{\\frac{1}{N} \\sum_{j = 1}^M \\sum_{i \\in n_j} \\Big ( \\max \\big (0, 1 - y_i (\\textbf{a}_i^T \\textbf{z}) \\big )} + \\lambda ||\\textbf{z}||_2^2 \\Big )$$"
   ]
  },
  {
   "cell_type": "markdown",
   "metadata": {},
   "source": [
    "# Algorithm\n",
    "\n",
    "In the distributed architecture just initialized, even though each node communicates only with his neighbors, applying the sub-gradient algorithm is possible to reach the consensus. Since the hinge-loss function is not differentiable, we need to apply the sub-gradient algorithm to solve our problem.\n",
    "\n",
    "With:\n",
    "\n",
    "- A = adjacency matrix and D diagonal matrix of the degress, we can define the Laplacian L as L = D - A\n",
    "\n",
    "- $\\mu[n] = \\frac{\\mu_0}{k^{\\gamma}} $ as step size of the algorithm\n",
    "\n",
    "- $\\mu_0 \\in (0,1)$ and $\\gamma \\in (0.5, 1]$ parameters involved in the computation of $\\mu[n]$\n",
    "\n",
    "- $W = I - \\varepsilon L$\n",
    "\n",
    "- $\\varepsilon \\in \\big (0, \\frac{2}{\\lambda_{max}(L)} \\big )$\n",
    "\n",
    "- M number of nodes\n",
    "\n",
    "\n",
    "We have:\n",
    "\n",
    "$$z_j [n+1] = \\sum_{j=1}^{M} z_j[n] w_j - \\mu_j[n] \\Big ( \\sum_{i \\in n_j} \\frac{\\partial f_{z_i}(a_i) }{\\partial z} + \\nabla g(z[n])  \\Big )$$\n",
    "\n",
    "Where the subgradient of the hinge-loss can be computed as:\n",
    "\n",
    "$$\\frac{\\partial f}{\\partial z} =\\begin{cases} 0 & y_i(\\textbf{a}_i \\textbf{z}_i) < 1\\\\\n",
    "                     -y_i\\textbf{a}_i & y_i(\\textbf{a}_i \\textbf{z}_i) \\geq 1\n",
    "       \\end{cases}$$\n",
    "\n",
    "\n"
   ]
  },
  {
   "cell_type": "code",
   "execution_count": 4,
   "metadata": {},
   "outputs": [
    {
     "name": "stdout",
     "output_type": "stream",
     "text": [
      "Number of features: 9\n",
      "Number of clusters: 8\n"
     ]
    }
   ],
   "source": [
    "### assocation (agent, portion of data) ###\n",
    "agent_association = {k: [] for k in G.nodes.keys()}\n",
    "\n",
    "idxs_obs = train.index.values.tolist()\n",
    "n = 0\n",
    "size_agent = int(len(train)/N_agents)\n",
    "while idxs_obs != []:\n",
    "    lst = idxs_obs[:size_agent]\n",
    "    idxs_obs = idxs_obs[size_agent:]\n",
    "    agent_association[n] = agent_association[n] + lst\n",
    "    n +=1\n",
    "    if n == N_agents:\n",
    "        n = 0\n",
    "\n",
    "# Laplace and W matrix\n",
    "# W = I - \\eps L\n",
    "# \\eps = 0 < \\eps < 2/\\lambda_{max}(L)\n",
    "L = nx.laplacian_matrix(G)\n",
    "L = L.todense()\n",
    "eps = 1/max(np.linalg.eigvals(L))\n",
    "W = np.identity(N_agents) - eps*L\n",
    "\n",
    "print \"Number of features: %s\"%(df.shape[1] - 1)\n",
    "print \"Number of clusters: %s\"%N_agents"
   ]
  },
  {
   "cell_type": "code",
   "execution_count": 5,
   "metadata": {},
   "outputs": [],
   "source": [
    "### Functions for distributed classifier ###\n",
    "def gradient_regularizer(z_i):\n",
    "    return 2*z_i\n",
    "\n",
    "def update_mu(mu_0, k, gamma):\n",
    "    return 1.0*mu_0/(k**gamma)\n",
    "\n",
    "# hinge-loss function\n",
    "def subgradient_hingeloss(idx_node, agent_association, y, x_matrix,z_matrix):\n",
    "    res = np.zeros(z_matrix.shape[0])\n",
    "    for one_obs in agent_association[idx_node]:  \n",
    "        x_obs = x_matrix.loc[one_obs].values\n",
    "        z_array = z_matrix[:,idx_node]\n",
    "        one_y = y.loc[one_obs].values[0]\n",
    "        condition = one_y*np.dot(x_obs, z_array)\n",
    "        if condition < 1:\n",
    "            one_res = -one_y*x_obs\n",
    "            res += one_res \n",
    "        else:\n",
    "            pass\n",
    "    return res"
   ]
  },
  {
   "cell_type": "code",
   "execution_count": 6,
   "metadata": {
    "scrolled": true
   },
   "outputs": [],
   "source": [
    "### Run Distributed SVM ###\n",
    "\n",
    "# train\n",
    "x_train = train[train.columns[:-1]]\n",
    "x_train['b'] = +1\n",
    "n_features = x_train.shape[1]\n",
    "y_train = train[[train.columns[-1]]]\n",
    "\n",
    "# test\n",
    "x_test = test[test.columns[:-1]]\n",
    "x_test['b'] = +1\n",
    "y_test = test[[test.columns[-1]]]\n",
    "\n",
    "# weights\n",
    "z_matrix = np.zeros((n_features, N_agents))\n",
    "# improving performance reducing mu and increasing gamma\n",
    "mu_0 = 0.1\n",
    "gamma = 0.95\n",
    "count = 500\n",
    "k = 1\n",
    "history_z = {ag : [] for ag in range(N_agents)}\n",
    "history_main = []\n",
    "# main loop\n",
    "while True:\n",
    "    history_main.append(z_matrix.copy())\n",
    "    for selected_agent in range(N_agents):\n",
    "        z_new =  np.reshape(np.dot(z_matrix,W[:,selected_agent]), (n_features,))\n",
    "        mu_k = update_mu(mu_0, k, gamma)\n",
    "        sub_hl = subgradient_hingeloss(selected_agent, agent_association, y_train, x_train, z_matrix)\n",
    "        grad_reg = gradient_regularizer(z_matrix[:,selected_agent])\n",
    "        z_new = z_new - mu_k*(sub_hl + grad_reg)\n",
    "        z_matrix[:,selected_agent] =z_new\n",
    "        history_z[selected_agent].append(z_new) \n",
    "    k +=1\n",
    "    if k == count:\n",
    "        break"
   ]
  },
  {
   "cell_type": "markdown",
   "metadata": {},
   "source": [
    "# Classic SVM"
   ]
  },
  {
   "cell_type": "code",
   "execution_count": 7,
   "metadata": {},
   "outputs": [],
   "source": [
    "### classic SVM ###\n",
    "svclassifier = SVC(kernel='linear')  \n",
    "svclassifier.fit(x_train, y_train)  \n",
    "y_pred = svclassifier.predict(x_test)  \n",
    "acc_classic_model = accuracy_score(y_test.values, y_pred)"
   ]
  },
  {
   "cell_type": "markdown",
   "metadata": {},
   "source": [
    "# Comparison and Results\n",
    "\n",
    "**Accuracy.** Now, in order to evaluate our prediction, we compare the accuracy of the two models: for the distributed one, we compute the average of the accuracy of the 8 different $\\textbf{z}_i$ over the test. As we can see in the results below, the 2 values are quite similar. Moreover, in order to analyze the behavior of the algorithm, we plot the accuracy obtained at each step: as we can see from the plot, it becomes quite stable after 400 iterations.\n",
    "\n",
    "**Disagreement.** Another diagnostic plot useful to study the goodness of our results it's the computation of the disagreement along the run. As shown below, it becomes quite stable after not so many steps."
   ]
  },
  {
   "cell_type": "code",
   "execution_count": 8,
   "metadata": {},
   "outputs": [
    {
     "name": "stdout",
     "output_type": "stream",
     "text": [
      "Classic: 0.9902439024390244\n",
      "Distributed: 0.9908536585365854\n"
     ]
    },
    {
     "data": {
      "image/png": "[encoded data removed]",
      "text/plain": [
       "<matplotlib.figure.Figure at 0x10fcef910>"
      ]
     },
     "metadata": {},
     "output_type": "display_data"
    }
   ],
   "source": [
    "# accuracy over the test\n",
    "def test_accuracy(N_agents, z_matrix, x_test, y_test):\n",
    "    accuracy = {agent : 0 for agent in range(N_agents)}\n",
    "    for selected_agent in accuracy:\n",
    "        estimates = []\n",
    "        for obs in x_test.values:\n",
    "            est = np.dot(z_matrix[:-1,selected_agent], obs[:-1])\n",
    "            est = est + z_matrix[-1, selected_agent]\n",
    "            estimates.append(est)\n",
    "        right_pred = filter(lambda x: np.sign(x[0]) == np.sign(x[1]),\n",
    "                           zip(y_test['y'].values,estimates ))\n",
    "        accuracy[selected_agent] = 1.0*len(right_pred)/test.shape[0]\n",
    "    return np.mean(accuracy.values())\n",
    "\n",
    "### Comparison of Results ###\n",
    "res = [test_accuracy(N_agents, one_z, x_test, y_test) for one_z in history_main]\n",
    "evaluation = pd.DataFrame(data=[res], index=[['distributed']]).T\n",
    "evaluation['classic'] = acc_classic_model\n",
    "print 'Classic: %s'%acc_classic_model\n",
    "print 'Distributed: %s'%res[-1]\n",
    "evaluation.plot()\n",
    "plt.xlabel('Iterations')\n",
    "plt.title('Distributed Vs Classic')\n",
    "plt.show()"
   ]
  },
  {
   "cell_type": "code",
   "execution_count": 9,
   "metadata": {},
   "outputs": [],
   "source": [
    "# avg_disagreement\n",
    "def compute_disagreement(history_):\n",
    "    over_k = []\n",
    "    for m in history_:\n",
    "        disagreement_among_cov = N_agents*np.var(m,axis = 1)\n",
    "        val = np.mean(disagreement_among_cov)\n",
    "        over_k.append(val)\n",
    "    return over_k"
   ]
  },
  {
   "cell_type": "code",
   "execution_count": 10,
   "metadata": {},
   "outputs": [
    {
     "data": {
      "image/png": "[encoded data removed]",
      "text/plain": [
       "<matplotlib.figure.Figure at 0x1a179a8750>"
      ]
     },
     "metadata": {},
     "output_type": "display_data"
    }
   ],
   "source": [
    "avg_disagreement = pd.DataFrame(data=[compute_disagreement(history_main)],\n",
    "                          index=[['avg_disagreement']]).T\n",
    "avg_disagreement['avg_disagreement'].apply(np.log).plot()\n",
    "plt.xlabel('K')\n",
    "plt.ylabel('Disagreement')\n",
    "plt.title('Disagreement through iterations')\n",
    "plt.show()"
   ]
  }
 ],
 "metadata": {
  "kernelspec": {
   "display_name": "Python 2",
   "language": "python",
   "name": "python2"
  },
  "language_info": {
   "codemirror_mode": {
    "name": "ipython",
    "version": 2
   },
   "file_extension": ".py",
   "mimetype": "text/x-python",
   "name": "python",
   "nbconvert_exporter": "python",
   "pygments_lexer": "ipython2",
   "version": "2.7.14"
  }
 },
 "nbformat": 4,
 "nbformat_minor": 2
}
